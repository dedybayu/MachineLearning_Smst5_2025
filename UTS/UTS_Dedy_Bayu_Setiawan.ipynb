{
 "cells": [
  {
   "cell_type": "markdown",
   "id": "20c71899",
   "metadata": {},
   "source": [
    "| Nama               | NIM        | Kelas   |\n",
    "| -------------------- | ------------ | --------- |\n",
    "| Dedy Bayu Setiawan | 2341720041 | TI - 3H |\n"
   ]
  },
  {
   "cell_type": "markdown",
   "id": "6d476fc7",
   "metadata": {},
   "source": [
    "## Deskripsi Umum\n",
    "\n",
    "Tugas kali ini adalah mengerjakan studi kasus **analisis data dan clustering** menggunakan **unsupervised learning** dengan langkah-langkah sebagai berikut:\n",
    "\n",
    "---\n",
    "\n",
    "### 1. Preprocessing Data\n",
    "- Tangani **missing values** (imputasi *mean/median/modus* sesuai jenis data)  \n",
    "- **Normalisasi** atau **standarisasi** data  \n",
    "- Buat **minimal satu fitur baru** hasil kombinasi fitur lama  \n",
    "\n",
    "---\n",
    "\n",
    "### 2. Clustering\n",
    "- Terapkan **K-Means** dan **DBSCAN**  \n",
    "- Bandingkan hasil clustering menggunakan:\n",
    "  - **Silhouette Score**\n",
    "  - **Davies–Bouldin Index**\n",
    "\n",
    "---\n",
    "\n",
    "### 3. Approximate Nearest Neighbor (ANN)\n",
    "- Gunakan **Annoy** untuk mencari tetangga terdekat dari beberapa *query points* hasil clustering  \n",
    "- Tampilkan output berupa:\n",
    "  - **Index query point**\n",
    "  - **Daftar tetangga terdekat yang ditemukan**\n",
    "  - **Nilai jarak kemiripan**\n"
   ]
  },
  {
   "cell_type": "markdown",
   "id": "eb95f4e5",
   "metadata": {},
   "source": [
    "---"
   ]
  },
  {
   "cell_type": "markdown",
   "id": "cec76254",
   "metadata": {},
   "source": [
    "# Tugas 2 — Credit Card Dataset\n",
    "\n",
    "Untuk mahasiswa dengan nomor absen 2, 5, 8, dst.\n",
    "\n",
    "- **Dataset:** Credit Card Dataset for Clustering  \n",
    "- **Deskripsi:** Dataset ini berisi data perilaku pengguna kartu kredit. Gunakan untuk menemukan kelompok pelanggan berdasarkan pola penggunaan.\n",
    "\n",
    "---\n",
    "\n",
    "## Langkah tambahan\n",
    "\n",
    "- Tangani missing values dan normalisasi fitur numerik.  \n",
    "- Buat fitur baru seperti rasio antara BALANCE dan PURCHASES.\n"
   ]
  },
  {
   "cell_type": "markdown",
   "id": "f62bb097",
   "metadata": {},
   "source": [
    "# Import Library"
   ]
  },
  {
   "cell_type": "code",
   "execution_count": 1,
   "id": "0ab49d9f",
   "metadata": {},
   "outputs": [],
   "source": [
    "# Import library yang diperlukan\n",
    "import pandas as pd\n",
    "import numpy as np\n",
    "from sklearn.preprocessing import StandardScaler\n",
    "from sklearn.cluster import KMeans, DBSCAN\n",
    "from sklearn.decomposition import PCA\n",
    "from sklearn.metrics import silhouette_score, davies_bouldin_score\n",
    "from annoy import AnnoyIndex\n",
    "import matplotlib.pyplot as plt\n",
    "import seaborn as sns\n",
    "import random\n",
    "from kneed import KneeLocator\n",
    "from sklearn.neighbors import NearestNeighbors"
   ]
  },
  {
   "cell_type": "markdown",
   "id": "ac4da5be",
   "metadata": {},
   "source": [
    "# Baca Dataset"
   ]
  },
  {
   "cell_type": "code",
   "execution_count": 2,
   "id": "548ff1f8",
   "metadata": {},
   "outputs": [
    {
     "name": "stdout",
     "output_type": "stream",
     "text": [
      "<class 'pandas.core.frame.DataFrame'>\n",
      "RangeIndex: 30000 entries, 0 to 29999\n",
      "Data columns (total 25 columns):\n",
      " #   Column                      Non-Null Count  Dtype  \n",
      "---  ------                      --------------  -----  \n",
      " 0   ID                          30000 non-null  int64  \n",
      " 1   LIMIT_BAL                   30000 non-null  float64\n",
      " 2   SEX                         30000 non-null  int64  \n",
      " 3   EDUCATION                   30000 non-null  int64  \n",
      " 4   MARRIAGE                    30000 non-null  int64  \n",
      " 5   AGE                         30000 non-null  int64  \n",
      " 6   PAY_0                       30000 non-null  int64  \n",
      " 7   PAY_2                       30000 non-null  int64  \n",
      " 8   PAY_3                       30000 non-null  int64  \n",
      " 9   PAY_4                       30000 non-null  int64  \n",
      " 10  PAY_5                       30000 non-null  int64  \n",
      " 11  PAY_6                       30000 non-null  int64  \n",
      " 12  BILL_AMT1                   30000 non-null  float64\n",
      " 13  BILL_AMT2                   30000 non-null  float64\n",
      " 14  BILL_AMT3                   30000 non-null  float64\n",
      " 15  BILL_AMT4                   30000 non-null  float64\n",
      " 16  BILL_AMT5                   30000 non-null  float64\n",
      " 17  BILL_AMT6                   30000 non-null  float64\n",
      " 18  PAY_AMT1                    30000 non-null  float64\n",
      " 19  PAY_AMT2                    30000 non-null  float64\n",
      " 20  PAY_AMT3                    30000 non-null  float64\n",
      " 21  PAY_AMT4                    30000 non-null  float64\n",
      " 22  PAY_AMT5                    30000 non-null  float64\n",
      " 23  PAY_AMT6                    30000 non-null  float64\n",
      " 24  default.payment.next.month  30000 non-null  int64  \n",
      "dtypes: float64(13), int64(12)\n",
      "memory usage: 5.7 MB\n"
     ]
    },
    {
     "data": {
      "text/plain": [
       "None"
      ]
     },
     "metadata": {},
     "output_type": "display_data"
    },
    {
     "data": {
      "text/html": [
       "<div>\n",
       "<style scoped>\n",
       "    .dataframe tbody tr th:only-of-type {\n",
       "        vertical-align: middle;\n",
       "    }\n",
       "\n",
       "    .dataframe tbody tr th {\n",
       "        vertical-align: top;\n",
       "    }\n",
       "\n",
       "    .dataframe thead th {\n",
       "        text-align: right;\n",
       "    }\n",
       "</style>\n",
       "<table border=\"1\" class=\"dataframe\">\n",
       "  <thead>\n",
       "    <tr style=\"text-align: right;\">\n",
       "      <th></th>\n",
       "      <th>ID</th>\n",
       "      <th>LIMIT_BAL</th>\n",
       "      <th>SEX</th>\n",
       "      <th>EDUCATION</th>\n",
       "      <th>MARRIAGE</th>\n",
       "      <th>AGE</th>\n",
       "      <th>PAY_0</th>\n",
       "      <th>PAY_2</th>\n",
       "      <th>PAY_3</th>\n",
       "      <th>PAY_4</th>\n",
       "      <th>...</th>\n",
       "      <th>BILL_AMT4</th>\n",
       "      <th>BILL_AMT5</th>\n",
       "      <th>BILL_AMT6</th>\n",
       "      <th>PAY_AMT1</th>\n",
       "      <th>PAY_AMT2</th>\n",
       "      <th>PAY_AMT3</th>\n",
       "      <th>PAY_AMT4</th>\n",
       "      <th>PAY_AMT5</th>\n",
       "      <th>PAY_AMT6</th>\n",
       "      <th>default.payment.next.month</th>\n",
       "    </tr>\n",
       "  </thead>\n",
       "  <tbody>\n",
       "    <tr>\n",
       "      <th>count</th>\n",
       "      <td>30000.000000</td>\n",
       "      <td>30000.000000</td>\n",
       "      <td>30000.000000</td>\n",
       "      <td>30000.000000</td>\n",
       "      <td>30000.000000</td>\n",
       "      <td>30000.000000</td>\n",
       "      <td>30000.000000</td>\n",
       "      <td>30000.000000</td>\n",
       "      <td>30000.000000</td>\n",
       "      <td>30000.000000</td>\n",
       "      <td>...</td>\n",
       "      <td>30000.000000</td>\n",
       "      <td>30000.000000</td>\n",
       "      <td>30000.000000</td>\n",
       "      <td>30000.000000</td>\n",
       "      <td>3.000000e+04</td>\n",
       "      <td>30000.00000</td>\n",
       "      <td>30000.000000</td>\n",
       "      <td>30000.000000</td>\n",
       "      <td>30000.000000</td>\n",
       "      <td>30000.000000</td>\n",
       "    </tr>\n",
       "    <tr>\n",
       "      <th>mean</th>\n",
       "      <td>15000.500000</td>\n",
       "      <td>167484.322667</td>\n",
       "      <td>1.603733</td>\n",
       "      <td>1.853133</td>\n",
       "      <td>1.551867</td>\n",
       "      <td>35.485500</td>\n",
       "      <td>-0.016700</td>\n",
       "      <td>-0.133767</td>\n",
       "      <td>-0.166200</td>\n",
       "      <td>-0.220667</td>\n",
       "      <td>...</td>\n",
       "      <td>43262.948967</td>\n",
       "      <td>40311.400967</td>\n",
       "      <td>38871.760400</td>\n",
       "      <td>5663.580500</td>\n",
       "      <td>5.921163e+03</td>\n",
       "      <td>5225.68150</td>\n",
       "      <td>4826.076867</td>\n",
       "      <td>4799.387633</td>\n",
       "      <td>5215.502567</td>\n",
       "      <td>0.221200</td>\n",
       "    </tr>\n",
       "    <tr>\n",
       "      <th>std</th>\n",
       "      <td>8660.398374</td>\n",
       "      <td>129747.661567</td>\n",
       "      <td>0.489129</td>\n",
       "      <td>0.790349</td>\n",
       "      <td>0.521970</td>\n",
       "      <td>9.217904</td>\n",
       "      <td>1.123802</td>\n",
       "      <td>1.197186</td>\n",
       "      <td>1.196868</td>\n",
       "      <td>1.169139</td>\n",
       "      <td>...</td>\n",
       "      <td>64332.856134</td>\n",
       "      <td>60797.155770</td>\n",
       "      <td>59554.107537</td>\n",
       "      <td>16563.280354</td>\n",
       "      <td>2.304087e+04</td>\n",
       "      <td>17606.96147</td>\n",
       "      <td>15666.159744</td>\n",
       "      <td>15278.305679</td>\n",
       "      <td>17777.465775</td>\n",
       "      <td>0.415062</td>\n",
       "    </tr>\n",
       "    <tr>\n",
       "      <th>min</th>\n",
       "      <td>1.000000</td>\n",
       "      <td>10000.000000</td>\n",
       "      <td>1.000000</td>\n",
       "      <td>0.000000</td>\n",
       "      <td>0.000000</td>\n",
       "      <td>21.000000</td>\n",
       "      <td>-2.000000</td>\n",
       "      <td>-2.000000</td>\n",
       "      <td>-2.000000</td>\n",
       "      <td>-2.000000</td>\n",
       "      <td>...</td>\n",
       "      <td>-170000.000000</td>\n",
       "      <td>-81334.000000</td>\n",
       "      <td>-339603.000000</td>\n",
       "      <td>0.000000</td>\n",
       "      <td>0.000000e+00</td>\n",
       "      <td>0.00000</td>\n",
       "      <td>0.000000</td>\n",
       "      <td>0.000000</td>\n",
       "      <td>0.000000</td>\n",
       "      <td>0.000000</td>\n",
       "    </tr>\n",
       "    <tr>\n",
       "      <th>25%</th>\n",
       "      <td>7500.750000</td>\n",
       "      <td>50000.000000</td>\n",
       "      <td>1.000000</td>\n",
       "      <td>1.000000</td>\n",
       "      <td>1.000000</td>\n",
       "      <td>28.000000</td>\n",
       "      <td>-1.000000</td>\n",
       "      <td>-1.000000</td>\n",
       "      <td>-1.000000</td>\n",
       "      <td>-1.000000</td>\n",
       "      <td>...</td>\n",
       "      <td>2326.750000</td>\n",
       "      <td>1763.000000</td>\n",
       "      <td>1256.000000</td>\n",
       "      <td>1000.000000</td>\n",
       "      <td>8.330000e+02</td>\n",
       "      <td>390.00000</td>\n",
       "      <td>296.000000</td>\n",
       "      <td>252.500000</td>\n",
       "      <td>117.750000</td>\n",
       "      <td>0.000000</td>\n",
       "    </tr>\n",
       "    <tr>\n",
       "      <th>50%</th>\n",
       "      <td>15000.500000</td>\n",
       "      <td>140000.000000</td>\n",
       "      <td>2.000000</td>\n",
       "      <td>2.000000</td>\n",
       "      <td>2.000000</td>\n",
       "      <td>34.000000</td>\n",
       "      <td>0.000000</td>\n",
       "      <td>0.000000</td>\n",
       "      <td>0.000000</td>\n",
       "      <td>0.000000</td>\n",
       "      <td>...</td>\n",
       "      <td>19052.000000</td>\n",
       "      <td>18104.500000</td>\n",
       "      <td>17071.000000</td>\n",
       "      <td>2100.000000</td>\n",
       "      <td>2.009000e+03</td>\n",
       "      <td>1800.00000</td>\n",
       "      <td>1500.000000</td>\n",
       "      <td>1500.000000</td>\n",
       "      <td>1500.000000</td>\n",
       "      <td>0.000000</td>\n",
       "    </tr>\n",
       "    <tr>\n",
       "      <th>75%</th>\n",
       "      <td>22500.250000</td>\n",
       "      <td>240000.000000</td>\n",
       "      <td>2.000000</td>\n",
       "      <td>2.000000</td>\n",
       "      <td>2.000000</td>\n",
       "      <td>41.000000</td>\n",
       "      <td>0.000000</td>\n",
       "      <td>0.000000</td>\n",
       "      <td>0.000000</td>\n",
       "      <td>0.000000</td>\n",
       "      <td>...</td>\n",
       "      <td>54506.000000</td>\n",
       "      <td>50190.500000</td>\n",
       "      <td>49198.250000</td>\n",
       "      <td>5006.000000</td>\n",
       "      <td>5.000000e+03</td>\n",
       "      <td>4505.00000</td>\n",
       "      <td>4013.250000</td>\n",
       "      <td>4031.500000</td>\n",
       "      <td>4000.000000</td>\n",
       "      <td>0.000000</td>\n",
       "    </tr>\n",
       "    <tr>\n",
       "      <th>max</th>\n",
       "      <td>30000.000000</td>\n",
       "      <td>1000000.000000</td>\n",
       "      <td>2.000000</td>\n",
       "      <td>6.000000</td>\n",
       "      <td>3.000000</td>\n",
       "      <td>79.000000</td>\n",
       "      <td>8.000000</td>\n",
       "      <td>8.000000</td>\n",
       "      <td>8.000000</td>\n",
       "      <td>8.000000</td>\n",
       "      <td>...</td>\n",
       "      <td>891586.000000</td>\n",
       "      <td>927171.000000</td>\n",
       "      <td>961664.000000</td>\n",
       "      <td>873552.000000</td>\n",
       "      <td>1.684259e+06</td>\n",
       "      <td>896040.00000</td>\n",
       "      <td>621000.000000</td>\n",
       "      <td>426529.000000</td>\n",
       "      <td>528666.000000</td>\n",
       "      <td>1.000000</td>\n",
       "    </tr>\n",
       "  </tbody>\n",
       "</table>\n",
       "<p>8 rows × 25 columns</p>\n",
       "</div>"
      ],
      "text/plain": [
       "                 ID       LIMIT_BAL           SEX     EDUCATION      MARRIAGE  \\\n",
       "count  30000.000000    30000.000000  30000.000000  30000.000000  30000.000000   \n",
       "mean   15000.500000   167484.322667      1.603733      1.853133      1.551867   \n",
       "std     8660.398374   129747.661567      0.489129      0.790349      0.521970   \n",
       "min        1.000000    10000.000000      1.000000      0.000000      0.000000   \n",
       "25%     7500.750000    50000.000000      1.000000      1.000000      1.000000   \n",
       "50%    15000.500000   140000.000000      2.000000      2.000000      2.000000   \n",
       "75%    22500.250000   240000.000000      2.000000      2.000000      2.000000   \n",
       "max    30000.000000  1000000.000000      2.000000      6.000000      3.000000   \n",
       "\n",
       "                AGE         PAY_0         PAY_2         PAY_3         PAY_4  \\\n",
       "count  30000.000000  30000.000000  30000.000000  30000.000000  30000.000000   \n",
       "mean      35.485500     -0.016700     -0.133767     -0.166200     -0.220667   \n",
       "std        9.217904      1.123802      1.197186      1.196868      1.169139   \n",
       "min       21.000000     -2.000000     -2.000000     -2.000000     -2.000000   \n",
       "25%       28.000000     -1.000000     -1.000000     -1.000000     -1.000000   \n",
       "50%       34.000000      0.000000      0.000000      0.000000      0.000000   \n",
       "75%       41.000000      0.000000      0.000000      0.000000      0.000000   \n",
       "max       79.000000      8.000000      8.000000      8.000000      8.000000   \n",
       "\n",
       "       ...      BILL_AMT4      BILL_AMT5      BILL_AMT6       PAY_AMT1  \\\n",
       "count  ...   30000.000000   30000.000000   30000.000000   30000.000000   \n",
       "mean   ...   43262.948967   40311.400967   38871.760400    5663.580500   \n",
       "std    ...   64332.856134   60797.155770   59554.107537   16563.280354   \n",
       "min    ... -170000.000000  -81334.000000 -339603.000000       0.000000   \n",
       "25%    ...    2326.750000    1763.000000    1256.000000    1000.000000   \n",
       "50%    ...   19052.000000   18104.500000   17071.000000    2100.000000   \n",
       "75%    ...   54506.000000   50190.500000   49198.250000    5006.000000   \n",
       "max    ...  891586.000000  927171.000000  961664.000000  873552.000000   \n",
       "\n",
       "           PAY_AMT2      PAY_AMT3       PAY_AMT4       PAY_AMT5  \\\n",
       "count  3.000000e+04   30000.00000   30000.000000   30000.000000   \n",
       "mean   5.921163e+03    5225.68150    4826.076867    4799.387633   \n",
       "std    2.304087e+04   17606.96147   15666.159744   15278.305679   \n",
       "min    0.000000e+00       0.00000       0.000000       0.000000   \n",
       "25%    8.330000e+02     390.00000     296.000000     252.500000   \n",
       "50%    2.009000e+03    1800.00000    1500.000000    1500.000000   \n",
       "75%    5.000000e+03    4505.00000    4013.250000    4031.500000   \n",
       "max    1.684259e+06  896040.00000  621000.000000  426529.000000   \n",
       "\n",
       "            PAY_AMT6  default.payment.next.month  \n",
       "count   30000.000000                30000.000000  \n",
       "mean     5215.502567                    0.221200  \n",
       "std     17777.465775                    0.415062  \n",
       "min         0.000000                    0.000000  \n",
       "25%       117.750000                    0.000000  \n",
       "50%      1500.000000                    0.000000  \n",
       "75%      4000.000000                    0.000000  \n",
       "max    528666.000000                    1.000000  \n",
       "\n",
       "[8 rows x 25 columns]"
      ]
     },
     "metadata": {},
     "output_type": "display_data"
    },
    {
     "data": {
      "text/html": [
       "<div>\n",
       "<style scoped>\n",
       "    .dataframe tbody tr th:only-of-type {\n",
       "        vertical-align: middle;\n",
       "    }\n",
       "\n",
       "    .dataframe tbody tr th {\n",
       "        vertical-align: top;\n",
       "    }\n",
       "\n",
       "    .dataframe thead th {\n",
       "        text-align: right;\n",
       "    }\n",
       "</style>\n",
       "<table border=\"1\" class=\"dataframe\">\n",
       "  <thead>\n",
       "    <tr style=\"text-align: right;\">\n",
       "      <th></th>\n",
       "      <th>ID</th>\n",
       "      <th>LIMIT_BAL</th>\n",
       "      <th>SEX</th>\n",
       "      <th>EDUCATION</th>\n",
       "      <th>MARRIAGE</th>\n",
       "      <th>AGE</th>\n",
       "      <th>PAY_0</th>\n",
       "      <th>PAY_2</th>\n",
       "      <th>PAY_3</th>\n",
       "      <th>PAY_4</th>\n",
       "      <th>...</th>\n",
       "      <th>BILL_AMT4</th>\n",
       "      <th>BILL_AMT5</th>\n",
       "      <th>BILL_AMT6</th>\n",
       "      <th>PAY_AMT1</th>\n",
       "      <th>PAY_AMT2</th>\n",
       "      <th>PAY_AMT3</th>\n",
       "      <th>PAY_AMT4</th>\n",
       "      <th>PAY_AMT5</th>\n",
       "      <th>PAY_AMT6</th>\n",
       "      <th>default.payment.next.month</th>\n",
       "    </tr>\n",
       "  </thead>\n",
       "  <tbody>\n",
       "    <tr>\n",
       "      <th>0</th>\n",
       "      <td>1</td>\n",
       "      <td>20000.0</td>\n",
       "      <td>2</td>\n",
       "      <td>2</td>\n",
       "      <td>1</td>\n",
       "      <td>24</td>\n",
       "      <td>2</td>\n",
       "      <td>2</td>\n",
       "      <td>-1</td>\n",
       "      <td>-1</td>\n",
       "      <td>...</td>\n",
       "      <td>0.0</td>\n",
       "      <td>0.0</td>\n",
       "      <td>0.0</td>\n",
       "      <td>0.0</td>\n",
       "      <td>689.0</td>\n",
       "      <td>0.0</td>\n",
       "      <td>0.0</td>\n",
       "      <td>0.0</td>\n",
       "      <td>0.0</td>\n",
       "      <td>1</td>\n",
       "    </tr>\n",
       "    <tr>\n",
       "      <th>1</th>\n",
       "      <td>2</td>\n",
       "      <td>120000.0</td>\n",
       "      <td>2</td>\n",
       "      <td>2</td>\n",
       "      <td>2</td>\n",
       "      <td>26</td>\n",
       "      <td>-1</td>\n",
       "      <td>2</td>\n",
       "      <td>0</td>\n",
       "      <td>0</td>\n",
       "      <td>...</td>\n",
       "      <td>3272.0</td>\n",
       "      <td>3455.0</td>\n",
       "      <td>3261.0</td>\n",
       "      <td>0.0</td>\n",
       "      <td>1000.0</td>\n",
       "      <td>1000.0</td>\n",
       "      <td>1000.0</td>\n",
       "      <td>0.0</td>\n",
       "      <td>2000.0</td>\n",
       "      <td>1</td>\n",
       "    </tr>\n",
       "    <tr>\n",
       "      <th>2</th>\n",
       "      <td>3</td>\n",
       "      <td>90000.0</td>\n",
       "      <td>2</td>\n",
       "      <td>2</td>\n",
       "      <td>2</td>\n",
       "      <td>34</td>\n",
       "      <td>0</td>\n",
       "      <td>0</td>\n",
       "      <td>0</td>\n",
       "      <td>0</td>\n",
       "      <td>...</td>\n",
       "      <td>14331.0</td>\n",
       "      <td>14948.0</td>\n",
       "      <td>15549.0</td>\n",
       "      <td>1518.0</td>\n",
       "      <td>1500.0</td>\n",
       "      <td>1000.0</td>\n",
       "      <td>1000.0</td>\n",
       "      <td>1000.0</td>\n",
       "      <td>5000.0</td>\n",
       "      <td>0</td>\n",
       "    </tr>\n",
       "    <tr>\n",
       "      <th>3</th>\n",
       "      <td>4</td>\n",
       "      <td>50000.0</td>\n",
       "      <td>2</td>\n",
       "      <td>2</td>\n",
       "      <td>1</td>\n",
       "      <td>37</td>\n",
       "      <td>0</td>\n",
       "      <td>0</td>\n",
       "      <td>0</td>\n",
       "      <td>0</td>\n",
       "      <td>...</td>\n",
       "      <td>28314.0</td>\n",
       "      <td>28959.0</td>\n",
       "      <td>29547.0</td>\n",
       "      <td>2000.0</td>\n",
       "      <td>2019.0</td>\n",
       "      <td>1200.0</td>\n",
       "      <td>1100.0</td>\n",
       "      <td>1069.0</td>\n",
       "      <td>1000.0</td>\n",
       "      <td>0</td>\n",
       "    </tr>\n",
       "    <tr>\n",
       "      <th>4</th>\n",
       "      <td>5</td>\n",
       "      <td>50000.0</td>\n",
       "      <td>1</td>\n",
       "      <td>2</td>\n",
       "      <td>1</td>\n",
       "      <td>57</td>\n",
       "      <td>-1</td>\n",
       "      <td>0</td>\n",
       "      <td>-1</td>\n",
       "      <td>0</td>\n",
       "      <td>...</td>\n",
       "      <td>20940.0</td>\n",
       "      <td>19146.0</td>\n",
       "      <td>19131.0</td>\n",
       "      <td>2000.0</td>\n",
       "      <td>36681.0</td>\n",
       "      <td>10000.0</td>\n",
       "      <td>9000.0</td>\n",
       "      <td>689.0</td>\n",
       "      <td>679.0</td>\n",
       "      <td>0</td>\n",
       "    </tr>\n",
       "  </tbody>\n",
       "</table>\n",
       "<p>5 rows × 25 columns</p>\n",
       "</div>"
      ],
      "text/plain": [
       "   ID  LIMIT_BAL  SEX  EDUCATION  MARRIAGE  AGE  PAY_0  PAY_2  PAY_3  PAY_4  \\\n",
       "0   1    20000.0    2          2         1   24      2      2     -1     -1   \n",
       "1   2   120000.0    2          2         2   26     -1      2      0      0   \n",
       "2   3    90000.0    2          2         2   34      0      0      0      0   \n",
       "3   4    50000.0    2          2         1   37      0      0      0      0   \n",
       "4   5    50000.0    1          2         1   57     -1      0     -1      0   \n",
       "\n",
       "   ...  BILL_AMT4  BILL_AMT5  BILL_AMT6  PAY_AMT1  PAY_AMT2  PAY_AMT3  \\\n",
       "0  ...        0.0        0.0        0.0       0.0     689.0       0.0   \n",
       "1  ...     3272.0     3455.0     3261.0       0.0    1000.0    1000.0   \n",
       "2  ...    14331.0    14948.0    15549.0    1518.0    1500.0    1000.0   \n",
       "3  ...    28314.0    28959.0    29547.0    2000.0    2019.0    1200.0   \n",
       "4  ...    20940.0    19146.0    19131.0    2000.0   36681.0   10000.0   \n",
       "\n",
       "   PAY_AMT4  PAY_AMT5  PAY_AMT6  default.payment.next.month  \n",
       "0       0.0       0.0       0.0                           1  \n",
       "1    1000.0       0.0    2000.0                           1  \n",
       "2    1000.0    1000.0    5000.0                           0  \n",
       "3    1100.0    1069.0    1000.0                           0  \n",
       "4    9000.0     689.0     679.0                           0  \n",
       "\n",
       "[5 rows x 25 columns]"
      ]
     },
     "metadata": {},
     "output_type": "display_data"
    }
   ],
   "source": [
    "df = pd.read_csv(\"data/UCI_Credit_Card.csv\")\n",
    "display(df.info())\n",
    "display(df.describe())\n",
    "display(df.head())"
   ]
  },
  {
   "cell_type": "markdown",
   "id": "85675ad8",
   "metadata": {},
   "source": [
    "**Penjelasan:** Jumlah data ada 30.000 baris dengan jumlah kolom ada 25, ada 13 kolom bertipe float64, dan 12 kolom bertipe int64. "
   ]
  },
  {
   "cell_type": "markdown",
   "id": "acb33338",
   "metadata": {},
   "source": [
    "# Data Preprocessing "
   ]
  },
  {
   "cell_type": "markdown",
   "id": "6df17702",
   "metadata": {},
   "source": [
    "Cek apakah ada missing value di data aal"
   ]
  },
  {
   "cell_type": "code",
   "execution_count": 3,
   "id": "839ceaaa",
   "metadata": {},
   "outputs": [
    {
     "data": {
      "text/plain": [
       "Series([], dtype: int64)"
      ]
     },
     "execution_count": 3,
     "metadata": {},
     "output_type": "execute_result"
    }
   ],
   "source": [
    "df.isnull().sum()[df.isnull().sum() > 0]\n"
   ]
  },
  {
   "cell_type": "markdown",
   "id": "f658adbf",
   "metadata": {},
   "source": [
    "tidak ditemukan missing value di data awal"
   ]
  },
  {
   "cell_type": "code",
   "execution_count": 4,
   "id": "7ae5ba5e",
   "metadata": {},
   "outputs": [
    {
     "data": {
      "text/html": [
       "<div>\n",
       "<style scoped>\n",
       "    .dataframe tbody tr th:only-of-type {\n",
       "        vertical-align: middle;\n",
       "    }\n",
       "\n",
       "    .dataframe tbody tr th {\n",
       "        vertical-align: top;\n",
       "    }\n",
       "\n",
       "    .dataframe thead th {\n",
       "        text-align: right;\n",
       "    }\n",
       "</style>\n",
       "<table border=\"1\" class=\"dataframe\">\n",
       "  <thead>\n",
       "    <tr style=\"text-align: right;\">\n",
       "      <th></th>\n",
       "      <th>ID</th>\n",
       "      <th>LIMIT_BAL</th>\n",
       "      <th>SEX</th>\n",
       "      <th>EDUCATION</th>\n",
       "      <th>MARRIAGE</th>\n",
       "      <th>AGE</th>\n",
       "      <th>PAY_0</th>\n",
       "      <th>PAY_2</th>\n",
       "      <th>PAY_3</th>\n",
       "      <th>PAY_4</th>\n",
       "      <th>...</th>\n",
       "      <th>BILL_AMT6</th>\n",
       "      <th>PAY_AMT1</th>\n",
       "      <th>PAY_AMT2</th>\n",
       "      <th>PAY_AMT3</th>\n",
       "      <th>PAY_AMT4</th>\n",
       "      <th>PAY_AMT5</th>\n",
       "      <th>PAY_AMT6</th>\n",
       "      <th>default.payment.next.month</th>\n",
       "      <th>Avg_Balance</th>\n",
       "      <th>Avg_Payment</th>\n",
       "    </tr>\n",
       "  </thead>\n",
       "  <tbody>\n",
       "    <tr>\n",
       "      <th>0</th>\n",
       "      <td>-1.731993</td>\n",
       "      <td>-1.136720</td>\n",
       "      <td>0.810161</td>\n",
       "      <td>0.185828</td>\n",
       "      <td>-1.057295</td>\n",
       "      <td>-1.246020</td>\n",
       "      <td>1.794564</td>\n",
       "      <td>1.782348</td>\n",
       "      <td>-0.696663</td>\n",
       "      <td>-0.666599</td>\n",
       "      <td>...</td>\n",
       "      <td>-0.652724</td>\n",
       "      <td>-0.341942</td>\n",
       "      <td>-0.227086</td>\n",
       "      <td>-0.296801</td>\n",
       "      <td>-0.308063</td>\n",
       "      <td>-0.314136</td>\n",
       "      <td>-0.293382</td>\n",
       "      <td>1.876378</td>\n",
       "      <td>-0.690692</td>\n",
       "      <td>-0.509027</td>\n",
       "    </tr>\n",
       "    <tr>\n",
       "      <th>1</th>\n",
       "      <td>-1.731878</td>\n",
       "      <td>-0.365981</td>\n",
       "      <td>0.810161</td>\n",
       "      <td>0.185828</td>\n",
       "      <td>0.858557</td>\n",
       "      <td>-1.029047</td>\n",
       "      <td>-0.874991</td>\n",
       "      <td>1.782348</td>\n",
       "      <td>0.138865</td>\n",
       "      <td>0.188746</td>\n",
       "      <td>...</td>\n",
       "      <td>-0.597966</td>\n",
       "      <td>-0.341942</td>\n",
       "      <td>-0.213588</td>\n",
       "      <td>-0.240005</td>\n",
       "      <td>-0.244230</td>\n",
       "      <td>-0.314136</td>\n",
       "      <td>-0.180878</td>\n",
       "      <td>1.876378</td>\n",
       "      <td>-0.665997</td>\n",
       "      <td>-0.438153</td>\n",
       "    </tr>\n",
       "    <tr>\n",
       "      <th>2</th>\n",
       "      <td>-1.731762</td>\n",
       "      <td>-0.597202</td>\n",
       "      <td>0.810161</td>\n",
       "      <td>0.185828</td>\n",
       "      <td>0.858557</td>\n",
       "      <td>-0.161156</td>\n",
       "      <td>0.014861</td>\n",
       "      <td>0.111736</td>\n",
       "      <td>0.138865</td>\n",
       "      <td>0.188746</td>\n",
       "      <td>...</td>\n",
       "      <td>-0.391630</td>\n",
       "      <td>-0.250292</td>\n",
       "      <td>-0.191887</td>\n",
       "      <td>-0.240005</td>\n",
       "      <td>-0.244230</td>\n",
       "      <td>-0.248683</td>\n",
       "      <td>-0.012122</td>\n",
       "      <td>-0.532942</td>\n",
       "      <td>-0.443170</td>\n",
       "      <td>-0.339216</td>\n",
       "    </tr>\n",
       "    <tr>\n",
       "      <th>3</th>\n",
       "      <td>-1.731647</td>\n",
       "      <td>-0.905498</td>\n",
       "      <td>0.810161</td>\n",
       "      <td>0.185828</td>\n",
       "      <td>-1.057295</td>\n",
       "      <td>0.164303</td>\n",
       "      <td>0.014861</td>\n",
       "      <td>0.111736</td>\n",
       "      <td>0.138865</td>\n",
       "      <td>0.188746</td>\n",
       "      <td>...</td>\n",
       "      <td>-0.156579</td>\n",
       "      <td>-0.221191</td>\n",
       "      <td>-0.169361</td>\n",
       "      <td>-0.228645</td>\n",
       "      <td>-0.237846</td>\n",
       "      <td>-0.244166</td>\n",
       "      <td>-0.237130</td>\n",
       "      <td>-0.532942</td>\n",
       "      <td>-0.101507</td>\n",
       "      <td>-0.382454</td>\n",
       "    </tr>\n",
       "    <tr>\n",
       "      <th>4</th>\n",
       "      <td>-1.731531</td>\n",
       "      <td>-0.905498</td>\n",
       "      <td>-1.234323</td>\n",
       "      <td>0.185828</td>\n",
       "      <td>-1.057295</td>\n",
       "      <td>2.334029</td>\n",
       "      <td>-0.874991</td>\n",
       "      <td>0.111736</td>\n",
       "      <td>-0.696663</td>\n",
       "      <td>0.188746</td>\n",
       "      <td>...</td>\n",
       "      <td>-0.331482</td>\n",
       "      <td>-0.221191</td>\n",
       "      <td>1.335034</td>\n",
       "      <td>0.271165</td>\n",
       "      <td>0.266434</td>\n",
       "      <td>-0.269039</td>\n",
       "      <td>-0.255187</td>\n",
       "      <td>-0.532942</td>\n",
       "      <td>-0.422920</td>\n",
       "      <td>0.450421</td>\n",
       "    </tr>\n",
       "  </tbody>\n",
       "</table>\n",
       "<p>5 rows × 27 columns</p>\n",
       "</div>"
      ],
      "text/plain": [
       "         ID  LIMIT_BAL       SEX  EDUCATION  MARRIAGE       AGE     PAY_0  \\\n",
       "0 -1.731993  -1.136720  0.810161   0.185828 -1.057295 -1.246020  1.794564   \n",
       "1 -1.731878  -0.365981  0.810161   0.185828  0.858557 -1.029047 -0.874991   \n",
       "2 -1.731762  -0.597202  0.810161   0.185828  0.858557 -0.161156  0.014861   \n",
       "3 -1.731647  -0.905498  0.810161   0.185828 -1.057295  0.164303  0.014861   \n",
       "4 -1.731531  -0.905498 -1.234323   0.185828 -1.057295  2.334029 -0.874991   \n",
       "\n",
       "      PAY_2     PAY_3     PAY_4  ...  BILL_AMT6  PAY_AMT1  PAY_AMT2  PAY_AMT3  \\\n",
       "0  1.782348 -0.696663 -0.666599  ...  -0.652724 -0.341942 -0.227086 -0.296801   \n",
       "1  1.782348  0.138865  0.188746  ...  -0.597966 -0.341942 -0.213588 -0.240005   \n",
       "2  0.111736  0.138865  0.188746  ...  -0.391630 -0.250292 -0.191887 -0.240005   \n",
       "3  0.111736  0.138865  0.188746  ...  -0.156579 -0.221191 -0.169361 -0.228645   \n",
       "4  0.111736 -0.696663  0.188746  ...  -0.331482 -0.221191  1.335034  0.271165   \n",
       "\n",
       "   PAY_AMT4  PAY_AMT5  PAY_AMT6  default.payment.next.month  Avg_Balance  \\\n",
       "0 -0.308063 -0.314136 -0.293382                    1.876378    -0.690692   \n",
       "1 -0.244230 -0.314136 -0.180878                    1.876378    -0.665997   \n",
       "2 -0.244230 -0.248683 -0.012122                   -0.532942    -0.443170   \n",
       "3 -0.237846 -0.244166 -0.237130                   -0.532942    -0.101507   \n",
       "4  0.266434 -0.269039 -0.255187                   -0.532942    -0.422920   \n",
       "\n",
       "   Avg_Payment  \n",
       "0    -0.509027  \n",
       "1    -0.438153  \n",
       "2    -0.339216  \n",
       "3    -0.382454  \n",
       "4     0.450421  \n",
       "\n",
       "[5 rows x 27 columns]"
      ]
     },
     "metadata": {},
     "output_type": "display_data"
    }
   ],
   "source": [
    "df.fillna(df.mean(), inplace=True)\n",
    "\n",
    "df[\"Avg_Balance\"] = df[\n",
    "    [\"BILL_AMT1\", \"BILL_AMT2\", \"BILL_AMT3\", \"BILL_AMT4\", \"BILL_AMT5\", \"BILL_AMT6\"]\n",
    "].mean(axis=1)\n",
    "df[\"Avg_Payment\"] = df[\n",
    "    [\"PAY_AMT1\", \"PAY_AMT2\", \"PAY_AMT3\", \"PAY_AMT4\", \"PAY_AMT5\", \"PAY_AMT6\"]\n",
    "].mean(axis=1)\n",
    "\n",
    "df[\"Balance_Purchase_Ratio\"] = df[\"Avg_Balance\"] / df[\"Avg_Payment\"].replace(0, pd.NA)\n",
    "\n",
    "num_df = df.select_dtypes(include=[\"float64\", \"int64\"])\n",
    "\n",
    "scaler = StandardScaler()\n",
    "X_scaled = scaler.fit_transform(num_df)\n",
    "\n",
    "normalized_df = pd.DataFrame(X_scaled, columns=num_df.columns)\n",
    "\n",
    "display(normalized_df.head())"
   ]
  },
  {
   "cell_type": "markdown",
   "id": "3c07881b",
   "metadata": {},
   "source": [
    "Fitur baru yang saya tambahkan adalah ```Balance_Purchase_Ratio``` yang mana fitur ini merupakan Rasio antara saldo dan pembayaran — digunakan untuk melihat perbandingan antara tagihan dan kemampuan membayar. Namun fitur ini tidak berdiri sendiri terdapat juga fitur ```Avg_Balance``` yang menunjukan avg saldo tagihan bulanan dan ```Avg_Payment``` yang menunjukkan rata\" pembayaran bulanan selama 6 bulan terakhir. Yang mana ```Balance_Purchase_Ratio``` diambil dari ```Avg_Balance``` / ```Avg_Payment```."
   ]
  },
  {
   "cell_type": "markdown",
   "id": "3781c915",
   "metadata": {},
   "source": [
    "Cek apakah masih ada missing value"
   ]
  },
  {
   "cell_type": "code",
   "execution_count": 5,
   "id": "bf7b311d",
   "metadata": {},
   "outputs": [
    {
     "data": {
      "text/plain": [
       "Series([], dtype: float64)"
      ]
     },
     "execution_count": 5,
     "metadata": {},
     "output_type": "execute_result"
    }
   ],
   "source": [
    "\n",
    "normalized_df[normalized_df.columns[normalized_df.isnull().any()]].isnull().sum()"
   ]
  },
  {
   "cell_type": "markdown",
   "id": "f34541c6",
   "metadata": {},
   "source": [
    "---"
   ]
  },
  {
   "cell_type": "markdown",
   "id": "db01f0ac",
   "metadata": {},
   "source": [
    "# KMeans\n"
   ]
  },
  {
   "cell_type": "code",
   "execution_count": 6,
   "id": "c3e3fb99",
   "metadata": {},
   "outputs": [],
   "source": [
    "RANDOM_SEED = 42\n",
    "random.seed(RANDOM_SEED)\n",
    "np.random.seed(RANDOM_SEED)"
   ]
  },
  {
   "cell_type": "markdown",
   "id": "df967e46",
   "metadata": {},
   "source": [
    "## Looping untuk mencari nilai k terbaik"
   ]
  },
  {
   "cell_type": "code",
   "execution_count": 7,
   "id": "5df49b3a",
   "metadata": {},
   "outputs": [
    {
     "name": "stderr",
     "output_type": "stream",
     "text": [
      "/home/dedybayu/.local/lib/python3.10/site-packages/sklearn/cluster/_kmeans.py:1416: FutureWarning: The default value of `n_init` will change from 10 to 'auto' in 1.4. Set the value of `n_init` explicitly to suppress the warning\n",
      "  super()._check_params_vs_input(X, default_n_init=10)\n"
     ]
    },
    {
     "name": "stdout",
     "output_type": "stream",
     "text": [
      "k=2, silhouette score=0.3509\n"
     ]
    },
    {
     "name": "stderr",
     "output_type": "stream",
     "text": [
      "/home/dedybayu/.local/lib/python3.10/site-packages/sklearn/cluster/_kmeans.py:1416: FutureWarning: The default value of `n_init` will change from 10 to 'auto' in 1.4. Set the value of `n_init` explicitly to suppress the warning\n",
      "  super()._check_params_vs_input(X, default_n_init=10)\n"
     ]
    },
    {
     "name": "stdout",
     "output_type": "stream",
     "text": [
      "k=3, silhouette score=0.1624\n"
     ]
    },
    {
     "name": "stderr",
     "output_type": "stream",
     "text": [
      "/home/dedybayu/.local/lib/python3.10/site-packages/sklearn/cluster/_kmeans.py:1416: FutureWarning: The default value of `n_init` will change from 10 to 'auto' in 1.4. Set the value of `n_init` explicitly to suppress the warning\n",
      "  super()._check_params_vs_input(X, default_n_init=10)\n"
     ]
    },
    {
     "name": "stdout",
     "output_type": "stream",
     "text": [
      "k=4, silhouette score=0.1405\n"
     ]
    },
    {
     "name": "stderr",
     "output_type": "stream",
     "text": [
      "/home/dedybayu/.local/lib/python3.10/site-packages/sklearn/cluster/_kmeans.py:1416: FutureWarning: The default value of `n_init` will change from 10 to 'auto' in 1.4. Set the value of `n_init` explicitly to suppress the warning\n",
      "  super()._check_params_vs_input(X, default_n_init=10)\n"
     ]
    },
    {
     "name": "stdout",
     "output_type": "stream",
     "text": [
      "k=5, silhouette score=0.1511\n"
     ]
    },
    {
     "name": "stderr",
     "output_type": "stream",
     "text": [
      "/home/dedybayu/.local/lib/python3.10/site-packages/sklearn/cluster/_kmeans.py:1416: FutureWarning: The default value of `n_init` will change from 10 to 'auto' in 1.4. Set the value of `n_init` explicitly to suppress the warning\n",
      "  super()._check_params_vs_input(X, default_n_init=10)\n"
     ]
    },
    {
     "name": "stdout",
     "output_type": "stream",
     "text": [
      "k=6, silhouette score=0.1444\n"
     ]
    },
    {
     "name": "stderr",
     "output_type": "stream",
     "text": [
      "/home/dedybayu/.local/lib/python3.10/site-packages/sklearn/cluster/_kmeans.py:1416: FutureWarning: The default value of `n_init` will change from 10 to 'auto' in 1.4. Set the value of `n_init` explicitly to suppress the warning\n",
      "  super()._check_params_vs_input(X, default_n_init=10)\n"
     ]
    },
    {
     "name": "stdout",
     "output_type": "stream",
     "text": [
      "k=7, silhouette score=0.1218\n"
     ]
    },
    {
     "name": "stderr",
     "output_type": "stream",
     "text": [
      "/home/dedybayu/.local/lib/python3.10/site-packages/sklearn/cluster/_kmeans.py:1416: FutureWarning: The default value of `n_init` will change from 10 to 'auto' in 1.4. Set the value of `n_init` explicitly to suppress the warning\n",
      "  super()._check_params_vs_input(X, default_n_init=10)\n"
     ]
    },
    {
     "name": "stdout",
     "output_type": "stream",
     "text": [
      "k=8, silhouette score=0.1215\n"
     ]
    },
    {
     "name": "stderr",
     "output_type": "stream",
     "text": [
      "/home/dedybayu/.local/lib/python3.10/site-packages/sklearn/cluster/_kmeans.py:1416: FutureWarning: The default value of `n_init` will change from 10 to 'auto' in 1.4. Set the value of `n_init` explicitly to suppress the warning\n",
      "  super()._check_params_vs_input(X, default_n_init=10)\n"
     ]
    },
    {
     "name": "stdout",
     "output_type": "stream",
     "text": [
      "k=9, silhouette score=0.1169\n"
     ]
    },
    {
     "name": "stderr",
     "output_type": "stream",
     "text": [
      "/home/dedybayu/.local/lib/python3.10/site-packages/sklearn/cluster/_kmeans.py:1416: FutureWarning: The default value of `n_init` will change from 10 to 'auto' in 1.4. Set the value of `n_init` explicitly to suppress the warning\n",
      "  super()._check_params_vs_input(X, default_n_init=10)\n"
     ]
    },
    {
     "name": "stdout",
     "output_type": "stream",
     "text": [
      "k=10, silhouette score=0.1077\n"
     ]
    },
    {
     "name": "stderr",
     "output_type": "stream",
     "text": [
      "/home/dedybayu/.local/lib/python3.10/site-packages/sklearn/cluster/_kmeans.py:1416: FutureWarning: The default value of `n_init` will change from 10 to 'auto' in 1.4. Set the value of `n_init` explicitly to suppress the warning\n",
      "  super()._check_params_vs_input(X, default_n_init=10)\n"
     ]
    },
    {
     "name": "stdout",
     "output_type": "stream",
     "text": [
      "k=11, silhouette score=0.1110\n"
     ]
    },
    {
     "name": "stderr",
     "output_type": "stream",
     "text": [
      "/home/dedybayu/.local/lib/python3.10/site-packages/sklearn/cluster/_kmeans.py:1416: FutureWarning: The default value of `n_init` will change from 10 to 'auto' in 1.4. Set the value of `n_init` explicitly to suppress the warning\n",
      "  super()._check_params_vs_input(X, default_n_init=10)\n"
     ]
    },
    {
     "name": "stdout",
     "output_type": "stream",
     "text": [
      "k=12, silhouette score=0.1082\n"
     ]
    },
    {
     "name": "stderr",
     "output_type": "stream",
     "text": [
      "/home/dedybayu/.local/lib/python3.10/site-packages/sklearn/cluster/_kmeans.py:1416: FutureWarning: The default value of `n_init` will change from 10 to 'auto' in 1.4. Set the value of `n_init` explicitly to suppress the warning\n",
      "  super()._check_params_vs_input(X, default_n_init=10)\n"
     ]
    },
    {
     "name": "stdout",
     "output_type": "stream",
     "text": [
      "k=13, silhouette score=0.1093\n"
     ]
    },
    {
     "name": "stderr",
     "output_type": "stream",
     "text": [
      "/home/dedybayu/.local/lib/python3.10/site-packages/sklearn/cluster/_kmeans.py:1416: FutureWarning: The default value of `n_init` will change from 10 to 'auto' in 1.4. Set the value of `n_init` explicitly to suppress the warning\n",
      "  super()._check_params_vs_input(X, default_n_init=10)\n"
     ]
    },
    {
     "name": "stdout",
     "output_type": "stream",
     "text": [
      "k=14, silhouette score=0.0999\n"
     ]
    }
   ],
   "source": [
    "wcss = []\n",
    "silhouette_scores = []\n",
    "K_range = range(2, 15)\n",
    "\n",
    "for k in K_range:\n",
    "    km = KMeans(n_clusters=k, random_state=42)\n",
    "    labels = km.fit_predict(X_scaled)\n",
    "    wcss.append(km.inertia_)\n",
    "    silhouette_scores.append(silhouette_score(X_scaled, labels))\n",
    "    print(f\"k={k}, silhouette score={silhouette_scores[-1]:.4f}\")"
   ]
  },
  {
   "cell_type": "markdown",
   "id": "f7cccd29",
   "metadata": {},
   "source": [
    "## Mencari elbow menggunakan KneeLocator agar otomatis dan akurat"
   ]
  },
  {
   "cell_type": "code",
   "execution_count": 8,
   "id": "2d906cec",
   "metadata": {},
   "outputs": [
    {
     "data": {
      "image/png": "[encoded data removed]",
      "text/plain": [
       "<Figure size 800x500 with 1 Axes>"
      ]
     },
     "metadata": {},
     "output_type": "display_data"
    },
    {
     "name": "stdout",
     "output_type": "stream",
     "text": [
      "\n",
      "Optimal number of clusters (Elbow Method): 6\n"
     ]
    }
   ],
   "source": [
    "# Cari titik elbow otomatis\n",
    "kneedle_kmeans = KneeLocator(\n",
    "    list(K_range), wcss, curve=\"convex\", direction=\"decreasing\"\n",
    ")\n",
    "optimal_k = kneedle_kmeans.elbow if kneedle_kmeans.elbow is not None else 3\n",
    "\n",
    "# === Plot Elbow Method ===\n",
    "plt.figure(figsize=(8, 5))\n",
    "plt.plot(K_range, wcss, \"bo-\", label=\"WCSS\")\n",
    "if kneedle_kmeans.elbow is not None:\n",
    "    plt.axvline(optimal_k, color=\"r\", linestyle=\"--\", label=f\"Optimal K = {optimal_k}\")\n",
    "plt.title(\"Elbow Method\")\n",
    "plt.xlabel(\"Jumlah Cluster (k)\")\n",
    "plt.ylabel(\"WCSS\")\n",
    "plt.legend()\n",
    "plt.show()\n",
    "\n",
    "print(f\"\\nOptimal number of clusters (Elbow Method): {optimal_k}\")"
   ]
  },
  {
   "cell_type": "markdown",
   "id": "0cf06f9b",
   "metadata": {},
   "source": [
    "## Menjalankan KMeans menggunakan nilai k yang didapat"
   ]
  },
  {
   "cell_type": "code",
   "execution_count": 9,
   "id": "a6542346",
   "metadata": {},
   "outputs": [
    {
     "name": "stderr",
     "output_type": "stream",
     "text": [
      "/home/dedybayu/.local/lib/python3.10/site-packages/sklearn/cluster/_kmeans.py:1416: FutureWarning: The default value of `n_init` will change from 10 to 'auto' in 1.4. Set the value of `n_init` explicitly to suppress the warning\n",
      "  super()._check_params_vs_input(X, default_n_init=10)\n"
     ]
    }
   ],
   "source": [
    "kmeans = KMeans(n_clusters=optimal_k, random_state=RANDOM_SEED)\n",
    "kmeans_labels = kmeans.fit_predict(X_scaled)"
   ]
  },
  {
   "cell_type": "markdown",
   "id": "d7a1bd9b",
   "metadata": {},
   "source": [
    "# DBSCAN\n"
   ]
  },
  {
   "cell_type": "markdown",
   "id": "4b2b3123",
   "metadata": {},
   "source": [
    "## Mencari Epsilon"
   ]
  },
  {
   "cell_type": "code",
   "execution_count": 10,
   "id": "0d4dcbcb",
   "metadata": {},
   "outputs": [],
   "source": [
    "neigh = NearestNeighbors(n_neighbors=5)\n",
    "nbrs = neigh.fit(X_scaled)\n",
    "distances, indices = nbrs.kneighbors(X_scaled)\n",
    "\n",
    "distances = np.sort(distances[:, 4])"
   ]
  },
  {
   "cell_type": "code",
   "execution_count": 11,
   "id": "ad055218",
   "metadata": {},
   "outputs": [],
   "source": [
    "kneedle_db = KneeLocator(\n",
    "    range(len(distances)), distances, S=1.0, curve=\"convex\", direction=\"increasing\"\n",
    ")\n",
    "eps_optimal = distances[kneedle_db.knee] if kneedle_db.knee is not None else 0.5"
   ]
  },
  {
   "cell_type": "code",
   "execution_count": 12,
   "id": "55a87d7a",
   "metadata": {},
   "outputs": [
    {
     "data": {
      "image/png": "[encoded data removed]",
      "text/plain": [
       "<Figure size 800x500 with 1 Axes>"
      ]
     },
     "metadata": {},
     "output_type": "display_data"
    },
    {
     "name": "stdout",
     "output_type": "stream",
     "text": [
      "Optimal epsilon: 7.667340207067311\n"
     ]
    }
   ],
   "source": [
    "# Plot\n",
    "plt.figure(figsize=(8, 5))\n",
    "plt.plot(K_range, wcss, \"bo-\", label=\"WCSS\")\n",
    "if kneedle_db.knee is not None:\n",
    "    plt.axvline(\n",
    "        eps_optimal, color=\"r\", linestyle=\"--\", label=f\"Optimal K = {eps_optimal}\"\n",
    "    )\n",
    "plt.ylabel(\"5th Nearest Neighbor Distance\")\n",
    "plt.xlabel(\"Points sorted by distance\")\n",
    "plt.title(\"Find epsilon\")\n",
    "plt.show()\n",
    "\n",
    "print(f\"Optimal epsilon: {eps_optimal}\")"
   ]
  },
  {
   "cell_type": "markdown",
   "id": "fa3e5521",
   "metadata": {},
   "source": [
    "## Menjalankan DBSCAN menggunakan Epsilon optimal yang telah didapat"
   ]
  },
  {
   "cell_type": "code",
   "execution_count": 13,
   "id": "354f78fe",
   "metadata": {},
   "outputs": [],
   "source": [
    "dbscan = DBSCAN(eps=eps_optimal, min_samples=15)\n",
    "dbscan_labels = dbscan.fit_predict(X_scaled)"
   ]
  },
  {
   "cell_type": "code",
   "execution_count": 14,
   "id": "f2ee9733",
   "metadata": {},
   "outputs": [
    {
     "name": "stdout",
     "output_type": "stream",
     "text": [
      "KMeans Silhouette: 0.14440277495175646\n",
      "KMeans Davies-Bouldin: 1.8881037507422347\n",
      "DBSCAN Silhouette: 0.7594226308908701\n",
      "DBSCAN Davies-Bouldin: 1.4412936970925876\n"
     ]
    }
   ],
   "source": [
    "print(\"KMeans Silhouette:\", silhouette_score(X_scaled, kmeans_labels))\n",
    "print(\"KMeans Davies-Bouldin:\", davies_bouldin_score(X_scaled, kmeans_labels))\n",
    "print(\"DBSCAN Silhouette:\", silhouette_score(X_scaled, dbscan_labels))\n",
    "print(\"DBSCAN Davies-Bouldin:\", davies_bouldin_score(X_scaled, dbscan_labels))"
   ]
  },
  {
   "cell_type": "markdown",
   "id": "cecc309a",
   "metadata": {},
   "source": [
    "# Visualisasi\n"
   ]
  },
  {
   "cell_type": "code",
   "execution_count": 15,
   "id": "d62966e8",
   "metadata": {},
   "outputs": [
    {
     "data": {
      "image/png": "[encoded data removed]",
      "text/plain": [
       "<Figure size 1400x600 with 4 Axes>"
      ]
     },
     "metadata": {},
     "output_type": "display_data"
    }
   ],
   "source": [
    "# Reduksi dimensi ke 2D\n",
    "pca = PCA(n_components=2)\n",
    "X_pca = pca.fit_transform(X_scaled)\n",
    "\n",
    "fig, axes = plt.subplots(1, 2, figsize=(14, 6))\n",
    "\n",
    "# --- KMeans ---\n",
    "sc1 = axes[0].scatter(X_pca[:, 0], X_pca[:, 1], c=kmeans_labels, cmap=\"viridis\", s=30)\n",
    "axes[0].set_title(f\"KMeans Clustering (k={optimal_k})\")\n",
    "axes[0].set_xlabel(\"PCA Component 1\")\n",
    "axes[0].set_ylabel(\"PCA Component 2\")\n",
    "plt.colorbar(sc1, ax=axes[0], label=\"Cluster Label\")\n",
    "\n",
    "# --- DBSCAN ---\n",
    "sc2 = axes[1].scatter(X_pca[:, 0], X_pca[:, 1], c=dbscan_labels, cmap=\"plasma\", s=30)\n",
    "axes[1].set_title(\"DBSCAN Clustering\")\n",
    "axes[1].set_xlabel(\"PCA Component 1\")\n",
    "axes[1].set_ylabel(\"PCA Component 2\")\n",
    "plt.colorbar(sc2, ax=axes[1], label=\"Cluster Label\")\n",
    "\n",
    "plt.tight_layout()\n",
    "plt.show()"
   ]
  },
  {
   "cell_type": "markdown",
   "id": "90ae7ba0",
   "metadata": {},
   "source": [
    "# ANN\n"
   ]
  },
  {
   "cell_type": "code",
   "execution_count": 16,
   "id": "7636513b",
   "metadata": {},
   "outputs": [],
   "source": [
    "dim = X_scaled.shape[1]\n",
    "ann = AnnoyIndex(dim, \"euclidean\")\n",
    "\n",
    "for i in range(len(X_scaled)):\n",
    "    ann.add_item(i, X_scaled[i])\n",
    "\n",
    "ann.build(10)\n",
    "\n",
    "query_idx = 42\n",
    "query_vector = X_scaled[query_idx]\n",
    "\n",
    "neighbors, distances = ann.get_nns_by_vector(query_vector, 5, include_distances=True)"
   ]
  },
  {
   "cell_type": "code",
   "execution_count": 17,
   "id": "0365108a",
   "metadata": {},
   "outputs": [
    {
     "name": "stdout",
     "output_type": "stream",
     "text": [
      "Query Point Index: 42\n",
      "Nearest Neighbors and Distances:\n",
      "Neighbor Index: 42 | Distance: 0.0000 | Cluster (KMeans): 0\n",
      "Neighbor Index: 2212 | Distance: 0.3681 | Cluster (KMeans): 0\n",
      "Neighbor Index: 1304 | Distance: 0.4530 | Cluster (KMeans): 0\n",
      "Neighbor Index: 3978 | Distance: 0.5150 | Cluster (KMeans): 0\n",
      "Neighbor Index: 1459 | Distance: 0.5566 | Cluster (KMeans): 0\n"
     ]
    }
   ],
   "source": [
    "print(f\"Query Point Index: {query_idx}\")\n",
    "print(\"Nearest Neighbors and Distances:\")\n",
    "for n, d in zip(neighbors, distances):\n",
    "    print(\n",
    "        f\"Neighbor Index: {n} | Distance: {d:.4f} | Cluster (KMeans): {kmeans_labels[n]}\"\n",
    "    )"
   ]
  },
  {
   "cell_type": "markdown",
   "id": "04a0809f",
   "metadata": {},
   "source": [
    "# Tulis kesimpulan singkat:"
   ]
  },
  {
   "cell_type": "code",
   "execution_count": 18,
   "id": "b936b91b",
   "metadata": {},
   "outputs": [
    {
     "name": "stdout",
     "output_type": "stream",
     "text": [
      "KMeans Silhouette: 0.14440277495175646\n",
      "KMeans Davies-Bouldin: 1.8881037507422347\n",
      "DBSCAN Silhouette: 0.7594226308908701\n",
      "DBSCAN Davies-Bouldin: 1.4412936970925876\n",
      "\n",
      "--------------------------------------------------\n",
      "\n",
      "Query Point Index: 42\n",
      "Nearest Neighbors and Distances:\n",
      "Neighbor Index: 42 | Distance: 0.0000 | Cluster (KMeans): 0\n",
      "Neighbor Index: 2212 | Distance: 0.3681 | Cluster (KMeans): 0\n",
      "Neighbor Index: 1304 | Distance: 0.4530 | Cluster (KMeans): 0\n",
      "Neighbor Index: 3978 | Distance: 0.5150 | Cluster (KMeans): 0\n",
      "Neighbor Index: 1459 | Distance: 0.5566 | Cluster (KMeans): 0\n"
     ]
    }
   ],
   "source": [
    "print(\"KMeans Silhouette:\", silhouette_score(X_scaled, kmeans_labels))\n",
    "print(\"KMeans Davies-Bouldin:\", davies_bouldin_score(X_scaled, kmeans_labels))\n",
    "print(\"DBSCAN Silhouette:\", silhouette_score(X_scaled, dbscan_labels))\n",
    "print(\"DBSCAN Davies-Bouldin:\", davies_bouldin_score(X_scaled, dbscan_labels))\n",
    "print(\"\\n--------------------------------------------------\\n\")\n",
    "print(f\"Query Point Index: {query_idx}\")\n",
    "print(\"Nearest Neighbors and Distances:\")\n",
    "for n, d in zip(neighbors, distances):\n",
    "    print(\n",
    "        f\"Neighbor Index: {n} | Distance: {d:.4f} | Cluster (KMeans): {kmeans_labels[n]}\"\n",
    "    )"
   ]
  },
  {
   "cell_type": "markdown",
   "id": "7420af02",
   "metadata": {},
   "source": [
    "## Kesimpulan Singkat\n",
    "\n",
    "### a. Perbedaan hasil KMeans dan DBSCAN\n",
    "- KMeans menghasilkan nilai Silhouette 0.144 dan Davies-Bouldin Index (DBI) 1.88, hal ini menunjukkan bahwa pemisahaan antar cluster masih lemah\n",
    "- Sementara DBSCAN memiliki Silhouette 0.565, jauh lebih baik daripada KMeans. Namun memiliki Davies-Bouldin 2.009 yang sedikit lebih buruk daripada KMeans\n",
    "- Dikarenakan Silhouette Score lebih mencerminkan kualitas pemisahan antar cluster dan kepadatan dalam cluster. Jadi DBSCAN lebih baik daripada KMeans dalam mengelompokkan data ini. karena nilai Silhouette nya jauh lebih tinggi yang menunjjukan pemisahaan cluster yang lebih jelas.\n",
    "---\n",
    "\n",
    "### b. Nilai metrik terbaik\n",
    "Tuliskan **nilai metrik terbaik** berdasarkan:\n",
    "- **Silhouette Score**\n",
    "\n",
    "    Silhouette yang terbaik dimiliki oleh model DBSCAN dengan nilai 0,565. Hal ini karena semakin tinggi (mendekati 1) maka semakin baik atau cluter lebih terpisah jelas\n",
    "\n",
    "- **Davies–Bouldin Index (DBI)**\n",
    "\n",
    "    Davies–Bouldin yang terbaik dimiliki oleh KMeans dengan nilai 1,888. Hal ini karena semakin rendah akan semakin baik (cluster lebih kompak memiliki data yang saling berdekatan satu sama lain di dalamnya)\n",
    "\n",
    "\n",
    "---\n",
    "\n",
    "### c. Hasil query Annoy\n",
    "Apakah **tetangga yang ditemukan oleh Annoy** termasuk dalam **cluster yang sama**?  \n",
    "Jelaskan alasan dari jawaban anda.\n",
    "\n",
    "**Jawaban:**\n",
    "- Query point index: 42\n",
    "- Tetangga terdekat: indeks [42, 2212, 1304, 3978, 1459]\n",
    "- Semua tetangga berada pada cluster KMeans yang sama (cluster 0).\n",
    "\n",
    "**Penjelasan Kesimpulan:** hasil dari Annoy nearest neighbors konsisten dengan hasil klasterisasi KMeans. nearest neighbors yang ditemukan memang memiliki karakteristik serupa dan termasuk dalam cluster yang sama.\n",
    "\n"
   ]
  }
 ],
 "metadata": {
  "kernelspec": {
   "display_name": "Python 3",
   "language": "python",
   "name": "python3"
  },
  "language_info": {
   "codemirror_mode": {
    "name": "ipython",
    "version": 3
   },
   "file_extension": ".py",
   "mimetype": "text/x-python",
   "name": "python",
   "nbconvert_exporter": "python",
   "pygments_lexer": "ipython3",
   "version": "3.10.12"
  }
 },
 "nbformat": 4,
 "nbformat_minor": 5
}
