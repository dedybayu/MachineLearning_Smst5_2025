{
 "cells": [
  {
   "cell_type": "markdown",
   "id": "ddae3897",
   "metadata": {},
   "source": [
    "# Tugas 2"
   ]
  },
  {
   "cell_type": "markdown",
   "id": "d1579148",
   "metadata": {},
   "source": [
    "## Preprocesing"
   ]
  },
  {
   "cell_type": "code",
   "execution_count": 56,
   "id": "019e1201",
   "metadata": {},
   "outputs": [
    {
     "data": {
      "application/vnd.microsoft.datawrangler.viewer.v0+json": {
       "columns": [
        {
         "name": "index",
         "rawType": "int64",
         "type": "integer"
        },
        {
         "name": "Labels",
         "rawType": "object",
         "type": "string"
        },
        {
         "name": "SMS",
         "rawType": "object",
         "type": "string"
        }
       ],
       "ref": "6fc832a2-86a9-44e7-96d4-ffe78c3fac7d",
       "rows": [
        [
         "0",
         "ham",
         "Go until jurong point, crazy.. Available only in bugis n great world la e buffet... Cine there got amore wat..."
        ],
        [
         "1",
         "ham",
         "Ok lar... Joking wif u oni..."
        ],
        [
         "2",
         "spam",
         "Free entry in 2 a wkly comp to win FA Cup final tkts 21st May 2005. Text FA to 87121 to receive entry question(std txt rate)T&C's apply 08452810075over18's"
        ],
        [
         "3",
         "ham",
         "U dun say so early hor... U c already then say..."
        ],
        [
         "4",
         "ham",
         "Nah I don't think he goes to usf, he lives around here though"
        ]
       ],
       "shape": {
        "columns": 2,
        "rows": 5
       }
      },
      "text/html": [
       "<div>\n",
       "<style scoped>\n",
       "    .dataframe tbody tr th:only-of-type {\n",
       "        vertical-align: middle;\n",
       "    }\n",
       "\n",
       "    .dataframe tbody tr th {\n",
       "        vertical-align: top;\n",
       "    }\n",
       "\n",
       "    .dataframe thead th {\n",
       "        text-align: right;\n",
       "    }\n",
       "</style>\n",
       "<table border=\"1\" class=\"dataframe\">\n",
       "  <thead>\n",
       "    <tr style=\"text-align: right;\">\n",
       "      <th></th>\n",
       "      <th>Labels</th>\n",
       "      <th>SMS</th>\n",
       "    </tr>\n",
       "  </thead>\n",
       "  <tbody>\n",
       "    <tr>\n",
       "      <th>0</th>\n",
       "      <td>ham</td>\n",
       "      <td>Go until jurong point, crazy.. Available only ...</td>\n",
       "    </tr>\n",
       "    <tr>\n",
       "      <th>1</th>\n",
       "      <td>ham</td>\n",
       "      <td>Ok lar... Joking wif u oni...</td>\n",
       "    </tr>\n",
       "    <tr>\n",
       "      <th>2</th>\n",
       "      <td>spam</td>\n",
       "      <td>Free entry in 2 a wkly comp to win FA Cup fina...</td>\n",
       "    </tr>\n",
       "    <tr>\n",
       "      <th>3</th>\n",
       "      <td>ham</td>\n",
       "      <td>U dun say so early hor... U c already then say...</td>\n",
       "    </tr>\n",
       "    <tr>\n",
       "      <th>4</th>\n",
       "      <td>ham</td>\n",
       "      <td>Nah I don't think he goes to usf, he lives aro...</td>\n",
       "    </tr>\n",
       "  </tbody>\n",
       "</table>\n",
       "</div>"
      ],
      "text/plain": [
       "  Labels                                                SMS\n",
       "0    ham  Go until jurong point, crazy.. Available only ...\n",
       "1    ham                      Ok lar... Joking wif u oni...\n",
       "2   spam  Free entry in 2 a wkly comp to win FA Cup fina...\n",
       "3    ham  U dun say so early hor... U c already then say...\n",
       "4    ham  Nah I don't think he goes to usf, he lives aro..."
      ]
     },
     "metadata": {},
     "output_type": "display_data"
    },
    {
     "data": {
      "text/plain": [
       "(5572, 2)"
      ]
     },
     "metadata": {},
     "output_type": "display_data"
    },
    {
     "name": "stdout",
     "output_type": "stream",
     "text": [
      "<class 'pandas.core.frame.DataFrame'>\n",
      "RangeIndex: 5572 entries, 0 to 5571\n",
      "Data columns (total 2 columns):\n",
      " #   Column  Non-Null Count  Dtype \n",
      "---  ------  --------------  ----- \n",
      " 0   Labels  5572 non-null   object\n",
      " 1   SMS     5572 non-null   object\n",
      "dtypes: object(2)\n",
      "memory usage: 87.2+ KB\n"
     ]
    },
    {
     "data": {
      "text/plain": [
       "None"
      ]
     },
     "metadata": {},
     "output_type": "display_data"
    },
    {
     "data": {
      "application/vnd.microsoft.datawrangler.viewer.v0+json": {
       "columns": [
        {
         "name": "index",
         "rawType": "object",
         "type": "string"
        },
        {
         "name": "Labels",
         "rawType": "object",
         "type": "unknown"
        },
        {
         "name": "SMS",
         "rawType": "object",
         "type": "unknown"
        }
       ],
       "ref": "7cc6172d-b92d-4f72-a35c-5d0d8e357a91",
       "rows": [
        [
         "count",
         "5572",
         "5572"
        ],
        [
         "unique",
         "2",
         "5169"
        ],
        [
         "top",
         "ham",
         "Sorry, I'll call later"
        ],
        [
         "freq",
         "4825",
         "30"
        ]
       ],
       "shape": {
        "columns": 2,
        "rows": 4
       }
      },
      "text/html": [
       "<div>\n",
       "<style scoped>\n",
       "    .dataframe tbody tr th:only-of-type {\n",
       "        vertical-align: middle;\n",
       "    }\n",
       "\n",
       "    .dataframe tbody tr th {\n",
       "        vertical-align: top;\n",
       "    }\n",
       "\n",
       "    .dataframe thead th {\n",
       "        text-align: right;\n",
       "    }\n",
       "</style>\n",
       "<table border=\"1\" class=\"dataframe\">\n",
       "  <thead>\n",
       "    <tr style=\"text-align: right;\">\n",
       "      <th></th>\n",
       "      <th>Labels</th>\n",
       "      <th>SMS</th>\n",
       "    </tr>\n",
       "  </thead>\n",
       "  <tbody>\n",
       "    <tr>\n",
       "      <th>count</th>\n",
       "      <td>5572</td>\n",
       "      <td>5572</td>\n",
       "    </tr>\n",
       "    <tr>\n",
       "      <th>unique</th>\n",
       "      <td>2</td>\n",
       "      <td>5169</td>\n",
       "    </tr>\n",
       "    <tr>\n",
       "      <th>top</th>\n",
       "      <td>ham</td>\n",
       "      <td>Sorry, I'll call later</td>\n",
       "    </tr>\n",
       "    <tr>\n",
       "      <th>freq</th>\n",
       "      <td>4825</td>\n",
       "      <td>30</td>\n",
       "    </tr>\n",
       "  </tbody>\n",
       "</table>\n",
       "</div>"
      ],
      "text/plain": [
       "       Labels                     SMS\n",
       "count    5572                    5572\n",
       "unique      2                    5169\n",
       "top       ham  Sorry, I'll call later\n",
       "freq     4825                      30"
      ]
     },
     "metadata": {},
     "output_type": "display_data"
    }
   ],
   "source": [
    "import numpy as np\n",
    "import pandas as pd\n",
    "from sklearn.model_selection import train_test_split\n",
    "from sklearn.feature_extraction.text import CountVectorizer, TfidfVectorizer\n",
    "from sklearn.naive_bayes import MultinomialNB\n",
    "from sklearn.metrics import accuracy_score, classification_report, confusion_matrix\n",
    "\n",
    "\n",
    "\n",
    "data = pd.read_csv('data/spam.csv', encoding='latin-1')\n",
    "data = data[['v1', 'v2']]\n",
    "data.rename(columns={'v1': 'Labels', 'v2': 'SMS'}, inplace=True)\n",
    "\n",
    "# Tampilkan 5 data teratas\n",
    "display(data.head())\n",
    "display(data.shape)\n",
    "display(data.info())\n",
    "display(data.describe())"
   ]
  },
  {
   "cell_type": "code",
   "execution_count": 57,
   "id": "5de30b76",
   "metadata": {},
   "outputs": [],
   "source": [
    "X = data['SMS']\n",
    "y = data['Labels']\n",
    "\n",
    "X_train, X_test, y_train, y_test = train_test_split(\n",
    "    X, y, test_size=0.2, random_state=42, stratify=y\n",
    ")\n"
   ]
  },
  {
   "cell_type": "markdown",
   "id": "a8dff5fc",
   "metadata": {},
   "source": [
    "## MODEL 1: CountVectorizer"
   ]
  },
  {
   "cell_type": "code",
   "execution_count": null,
   "id": "bfce1597",
   "metadata": {},
   "outputs": [
    {
     "name": "stdout",
     "output_type": "stream",
     "text": [
      "=== Hasil Evaluasi: CountVectorizer ===\n",
      "Akurasi: 0.9838565022421525\n",
      "\n",
      "Confusion Matrix:\n",
      " [[960   6]\n",
      " [ 12 137]]\n",
      "\n",
      "Classification Report:\n",
      "               precision    recall  f1-score   support\n",
      "\n",
      "         ham       0.99      0.99      0.99       966\n",
      "        spam       0.96      0.92      0.94       149\n",
      "\n",
      "    accuracy                           0.98      1115\n",
      "   macro avg       0.97      0.96      0.96      1115\n",
      "weighted avg       0.98      0.98      0.98      1115\n",
      "\n"
     ]
    }
   ],
   "source": [
    "cv = CountVectorizer(stop_words='english')\n",
    "\n",
    "X_train_cv = cv.fit_transform(X_train)\n",
    "X_test_cv = cv.transform(X_test)\n",
    "\n",
    "model_cv = MultinomialNB()\n",
    "model_cv.fit(X_train_cv, y_train)\n",
    "\n",
    "y_pred_cv = model_cv.predict(X_test_cv)\n",
    "\n",
    "print(\"=== Hasil Evaluasi: CountVectorizer ===\")\n",
    "print(\"Akurasi:\", accuracy_score(y_test, y_pred_cv))\n",
    "print(\"\\nConfusion Matrix:\\n\", confusion_matrix(y_test, y_pred_cv))\n",
    "print(\"\\nClassification Report:\\n\", classification_report(y_test, y_pred_cv))\n"
   ]
  },
  {
   "cell_type": "markdown",
   "id": "f050bac5",
   "metadata": {},
   "source": [
    "## MODEL 2: TF-IDF Vectorizer"
   ]
  },
  {
   "cell_type": "code",
   "execution_count": null,
   "id": "52887157",
   "metadata": {},
   "outputs": [
    {
     "name": "stdout",
     "output_type": "stream",
     "text": [
      "\n",
      "=== Hasil Evaluasi: TF-IDF ===\n",
      "Akurasi: 0.968609865470852\n",
      "\n",
      "Confusion Matrix:\n",
      " [[966   0]\n",
      " [ 35 114]]\n",
      "\n",
      "Classification Report:\n",
      "               precision    recall  f1-score   support\n",
      "\n",
      "         ham       0.97      1.00      0.98       966\n",
      "        spam       1.00      0.77      0.87       149\n",
      "\n",
      "    accuracy                           0.97      1115\n",
      "   macro avg       0.98      0.88      0.92      1115\n",
      "weighted avg       0.97      0.97      0.97      1115\n",
      "\n"
     ]
    }
   ],
   "source": [
    "tfidf = TfidfVectorizer(stop_words='english')\n",
    "\n",
    "X_train_tfidf = tfidf.fit_transform(X_train)\n",
    "X_test_tfidf = tfidf.transform(X_test)\n",
    "\n",
    "model_tfidf = MultinomialNB()\n",
    "model_tfidf.fit(X_train_tfidf, y_train)\n",
    "\n",
    "y_pred_tfidf = model_tfidf.predict(X_test_tfidf)\n",
    "\n",
    "print(\"\\n=== Hasil Evaluasi: TF-IDF ===\")\n",
    "print(\"Akurasi:\", accuracy_score(y_test, y_pred_tfidf))\n",
    "print(\"\\nConfusion Matrix:\\n\", confusion_matrix(y_test, y_pred_tfidf))\n",
    "print(\"\\nClassification Report:\\n\", classification_report(y_test, y_pred_tfidf))\n"
   ]
  },
  {
   "cell_type": "markdown",
   "id": "8dad25a0",
   "metadata": {},
   "source": [
    "## Memandingkan Hasil"
   ]
  },
  {
   "cell_type": "code",
   "execution_count": 60,
   "id": "fc0558bd",
   "metadata": {},
   "outputs": [
    {
     "name": "stdout",
     "output_type": "stream",
     "text": [
      "\n",
      "=== Perbandingan Akurasi ===\n",
      "CountVectorizer: 0.9839\n",
      "TF-IDF:          0.9686\n"
     ]
    }
   ],
   "source": [
    "acc_cv = accuracy_score(y_test, y_pred_cv)\n",
    "acc_tfidf = accuracy_score(y_test, y_pred_tfidf)\n",
    "\n",
    "print(\"\\n=== Perbandingan Akurasi ===\")\n",
    "print(f\"CountVectorizer: {acc_cv:.4f}\")\n",
    "print(f\"TF-IDF:          {acc_tfidf:.4f}\")\n"
   ]
  },
  {
   "cell_type": "markdown",
   "id": "656b7ca5",
   "metadata": {},
   "source": [
    "## Kesimpulan"
   ]
  },
  {
   "cell_type": "markdown",
   "id": "744afa02",
   "metadata": {},
   "source": [
    "Berdasarkan hasil pengujian, model Multinomial Naive Bayes dengan **CountVectorizer** menghasilkan akurasi **0.9839**, sedangkan dengan **TF-IDF** hanya **0.9686**. Hal ini menunjukkan bahwa **CountVectorizer** lebih efektif untuk mendeteksi pesan *spam* karena frekuensi kemunculan kata-kata seperti “free” atau “win” lebih berpengaruh dalam membedakan *spam* dan *ham*. Dengan demikian, fitur **CountVectorizer** merupakan pilihan terbaik untuk dataset `spam.csv`.\n"
   ]
  }
 ],
 "metadata": {
  "language_info": {
   "name": "python"
  }
 },
 "nbformat": 4,
 "nbformat_minor": 5
}
