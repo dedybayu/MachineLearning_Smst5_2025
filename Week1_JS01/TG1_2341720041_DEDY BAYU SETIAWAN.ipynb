{
 "cells": [
  {
   "cell_type": "markdown",
   "id": "f6ffb157",
   "metadata": {},
   "source": [
    "# Bagian 1"
   ]
  },
  {
   "cell_type": "markdown",
   "id": "30327505",
   "metadata": {},
   "source": [
    "## 1. Buat file notebook dengan nama TG1_NIM_NAMA.ipynb. Contoh: TG_0028119106_M AFIF HENDRAWAN.ipynb."
   ]
  },
  {
   "cell_type": "markdown",
   "id": "e3e839e1",
   "metadata": {},
   "source": [
    "## 2. Lakukan instalasi library berikut pada notebook,\n",
    "1. **PyPREP**  \n",
    "2. **Scipy**  \n",
    "3. **wandb (Weights & Biases)**  \n",
    "4. **pyECG**  "
   ]
  },
  {
   "cell_type": "code",
   "execution_count": 33,
   "id": "2f303c13",
   "metadata": {},
   "outputs": [
    {
     "name": "stdout",
     "output_type": "stream",
     "text": [
      "PyPREP: 0.5.0\n",
      "SciPy: 1.15.3\n",
      "wandb: 0.21.3\n",
      "pyECG: 0.0.9.1\n"
     ]
    }
   ],
   "source": [
    "import pyprep\n",
    "import scipy\n",
    "import wandb\n",
    "import pyecg\n",
    "\n",
    "print(\"PyPREP:\", pyprep.__version__)\n",
    "print(\"SciPy:\", scipy.__version__)\n",
    "print(\"wandb:\", wandb.__version__)\n",
    "print(\"pyECG:\", pyecg.__version__)\n"
   ]
  },
  {
   "cell_type": "markdown",
   "id": "bba44291",
   "metadata": {},
   "source": [
    "## 3 Jelaskan kegunakan masing-masing library tersebut.\n"
   ]
  },
  {
   "cell_type": "markdown",
   "id": "b51c7005",
   "metadata": {},
   "source": [
    "1. **PyPREP**  \n",
    "   - Digunakan untuk **preprocessing sinyal EEG (Electroencephalography)**.  \n",
    "   - Library ini mengimplementasikan algoritma PREP pipeline untuk menghilangkan noise, baseline wander, dan memperbaiki kualitas sinyal EEG sebelum dianalisis.  \n",
    "\n",
    "2. **Scipy**  \n",
    "   - Library **ilmiah dan numerik** di Python.  \n",
    "   - Banyak dipakai untuk operasi **matematika, optimisasi, statistik, sinyal, dan citra**.  \n",
    "   - Contoh: filtering sinyal ECG/EEG, FFT (Fast Fourier Transform), integrasi, interpolasi, dll.  \n",
    "\n",
    "3. **wandb (Weights & Biases)**  \n",
    "   - Alat untuk **experiment tracking dan model monitoring** dalam machine learning/deep learning.  \n",
    "   - Fungsinya mencatat **hasil training, grafik loss/akurasi, hyperparameter, dan log eksperimen** secara otomatis ke dashboard online.  \n",
    "\n",
    "4. **pyECG**  \n",
    "   - Library untuk **pemrosesan sinyal ECG (Electrocardiogram)**.  \n",
    "   - Mendukung pembacaan file ECG, preprocessing, ekstraksi fitur, dan analisis sinyal jantung.  \n",
    "   - Cocok digunakan untuk riset biometrik, kesehatan, maupun machine learning berbasis sinyal jantung.  "
   ]
  }
 ],
 "metadata": {
  "kernelspec": {
   "display_name": "base",
   "language": "python",
   "name": "python3"
  },
  "language_info": {
   "codemirror_mode": {
    "name": "ipython",
    "version": 3
   },
   "file_extension": ".py",
   "mimetype": "text/x-python",
   "name": "python",
   "nbconvert_exporter": "python",
   "pygments_lexer": "ipython3",
   "version": "3.13.5"
  }
 },
 "nbformat": 4,
 "nbformat_minor": 5
}
