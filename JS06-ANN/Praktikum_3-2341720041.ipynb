{
 "cells": [
  {
   "cell_type": "markdown",
   "id": "edc7a51f",
   "metadata": {},
   "source": [
    "# Praktikum 3"
   ]
  },
  {
   "cell_type": "code",
   "execution_count": 1,
   "id": "ecac2b3d",
   "metadata": {},
   "outputs": [
    {
     "name": "stdout",
     "output_type": "stream",
     "text": [
      "=== Exact NN ===\n",
      "Indices: [[242 173 139 368 855]]\n",
      "Distances: [[0.03745932 0.03984948 0.04073677 0.04259146 0.04400089]]\n",
      "Waktu: 0.024714946746826172 detik\n",
      "\n",
      "=== HNSW ===\n",
      "Indices: [[242 173 139 368 855]]\n",
      "Distances: [[0.0014032  0.00158798 0.00165948 0.00181403 0.00193608]]\n",
      "Waktu: 7.653236389160156e-05 detik\n"
     ]
    }
   ],
   "source": [
    "import hnswlib\n",
    "import numpy as np\n",
    "import time\n",
    "from sklearn.neighbors import NearestNeighbors\n",
    "\n",
    "# ===========================\n",
    "# 1. Buat data 2D acak\n",
    "# ===========================\n",
    "num_elements = 1000\n",
    "dim = 2\n",
    "data = np.random.random((num_elements, dim)).astype(np.float32)\n",
    "\n",
    "# Query point\n",
    "query = np.array([[0.5, 0.5]], dtype=np.float32)\n",
    "k = 5  # cari 5 tetangga terdekat\n",
    "\n",
    "# ===========================\n",
    "# 2. Exact NN (Brute Force)\n",
    "# ===========================\n",
    "nn = NearestNeighbors(n_neighbors=k, algorithm='brute', metric='euclidean')\n",
    "nn.fit(data)\n",
    "\n",
    "start = time.time()\n",
    "distances, indices = nn.kneighbors(query)\n",
    "end = time.time()\n",
    "\n",
    "print(\"=== Exact NN ===\")\n",
    "print(\"Indices:\", indices)\n",
    "print(\"Distances:\", distances)\n",
    "print(\"Waktu:\", end - start, \"detik\")\n",
    "\n",
    "# ===========================\n",
    "# 3. HNSW\n",
    "# ===========================\n",
    "# Inisialisasi index HNSW\n",
    "p = hnswlib.Index(space='l2', dim=dim)  \n",
    "\n",
    "# Ukuran maksimum elemen yang bisa ditampung\n",
    "p.init_index(max_elements=num_elements, ef_construction=100, M=16)\n",
    "\n",
    "# Tambahkan data\n",
    "p.add_items(data)\n",
    "\n",
    "# Set parameter pencarian\n",
    "p.set_ef(50)   # tradeoff speed vs accuracy\n",
    "\n",
    "start = time.time()\n",
    "labels, distances = p.knn_query(query, k=k)\n",
    "end = time.time()\n",
    "\n",
    "print(\"\\n=== HNSW ===\")\n",
    "print(\"Indices:\", labels)\n",
    "print(\"Distances:\", distances)\n",
    "print(\"Waktu:\", end - start, \"detik\")\n"
   ]
  }
 ],
 "metadata": {
  "kernelspec": {
   "display_name": "Python 3",
   "language": "python",
   "name": "python3"
  },
  "language_info": {
   "codemirror_mode": {
    "name": "ipython",
    "version": 3
   },
   "file_extension": ".py",
   "mimetype": "text/x-python",
   "name": "python",
   "nbconvert_exporter": "python",
   "pygments_lexer": "ipython3",
   "version": "3.10.12"
  }
 },
 "nbformat": 4,
 "nbformat_minor": 5
}
