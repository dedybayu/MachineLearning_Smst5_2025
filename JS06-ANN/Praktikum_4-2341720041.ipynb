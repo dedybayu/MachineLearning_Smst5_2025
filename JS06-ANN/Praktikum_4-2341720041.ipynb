{
 "cells": [
  {
   "cell_type": "markdown",
   "id": "708e6eab",
   "metadata": {},
   "source": [
    "# Praktikum 4"
   ]
  },
  {
   "cell_type": "code",
   "execution_count": 1,
   "id": "bd84bb77",
   "metadata": {},
   "outputs": [
    {
     "name": "stdout",
     "output_type": "stream",
     "text": [
      "=== Annoy ===\n",
      "Build time: 2.3255372047424316 detik\n",
      "Query time: 0.00019979476928710938 detik\n",
      "Neighbors: [985334, 20478, 959986, 932235, 689256] ...\n",
      "\n",
      "=== FAISS (IndexFlatL2) ===\n",
      "Build time: 0.008430957794189453 detik\n",
      "Query time: 0.0025446414947509766 detik\n",
      "Neighbors: [985334  20478 959986 932235 689256] ...\n",
      "\n",
      "=== HNSW (hnswlib) ===\n",
      "Build time: 15.871522188186646 detik\n",
      "Query time: 9.34600830078125e-05 detik\n",
      "Neighbors: [985334  20478 959986 932235 689256] ...\n"
     ]
    }
   ],
   "source": [
    "import numpy as np\n",
    "import time\n",
    "from annoy import AnnoyIndex\n",
    "import faiss\n",
    "import hnswlib\n",
    "\n",
    "# ===============================\n",
    "# 1. Buat dataset 1 juta data 5D\n",
    "# ===============================\n",
    "n_data = 1_000_000   # bisa coba 100_000 dulu jika RAM terbatas\n",
    "dim = 5\n",
    "X = np.random.random((n_data, dim)).astype(np.float32)\n",
    "\n",
    "# Query point\n",
    "query = np.random.random((1, dim)).astype(np.float32)\n",
    "k = 10\n",
    "\n",
    "# ===============================\n",
    "# 2. Annoy\n",
    "# ===============================\n",
    "print(\"=== Annoy ===\")\n",
    "ann_index = AnnoyIndex(dim, 'euclidean')\n",
    "\n",
    "start = time.time()\n",
    "for i in range(n_data):\n",
    "    ann_index.add_item(i, X[i])\n",
    "ann_index.build(10)  # 10 trees\n",
    "build_time = time.time() - start\n",
    "\n",
    "start = time.time()\n",
    "neighbors = ann_index.get_nns_by_vector(query[0], k, include_distances=True)\n",
    "query_time = time.time() - start\n",
    "\n",
    "print(\"Build time:\", build_time, \"detik\")\n",
    "print(\"Query time:\", query_time, \"detik\")\n",
    "print(\"Neighbors:\", neighbors[0][:5], \"...\")\n",
    "\n",
    "# ===============================\n",
    "# 3. FAISS (Flat Index)\n",
    "# ===============================\n",
    "print(\"\\n=== FAISS (IndexFlatL2) ===\")\n",
    "faiss_index = faiss.IndexFlatL2(dim)\n",
    "\n",
    "start = time.time()\n",
    "faiss_index.add(X)\n",
    "build_time = time.time() - start\n",
    "\n",
    "start = time.time()\n",
    "distances, indices = faiss_index.search(query, k)\n",
    "query_time = time.time() - start\n",
    "\n",
    "print(\"Build time:\", build_time, \"detik\")\n",
    "print(\"Query time:\", query_time, \"detik\")\n",
    "print(\"Neighbors:\", indices[0][:5], \"...\")\n",
    "\n",
    "# ===============================\n",
    "# 4. HNSW (hnswlib)\n",
    "# ===============================\n",
    "print(\"\\n=== HNSW (hnswlib) ===\")\n",
    "hnsw_index = hnswlib.Index(space='l2', dim=dim)\n",
    "\n",
    "start = time.time()\n",
    "hnsw_index.init_index(max_elements=n_data, ef_construction=200, M=16)\n",
    "hnsw_index.add_items(X)\n",
    "build_time = time.time() - start\n",
    "\n",
    "hnsw_index.set_ef(50)\n",
    "\n",
    "start = time.time()\n",
    "labels, distances = hnsw_index.knn_query(query, k=k)\n",
    "query_time = time.time() - start\n",
    "\n",
    "print(\"Build time:\", build_time, \"detik\")\n",
    "print(\"Query time:\", query_time, \"detik\")\n",
    "print(\"Neighbors:\", labels[0][:5], \"...\")\n"
   ]
  }
 ],
 "metadata": {
  "kernelspec": {
   "display_name": "Python 3",
   "language": "python",
   "name": "python3"
  },
  "language_info": {
   "codemirror_mode": {
    "name": "ipython",
    "version": 3
   },
   "file_extension": ".py",
   "mimetype": "text/x-python",
   "name": "python",
   "nbconvert_exporter": "python",
   "pygments_lexer": "ipython3",
   "version": "3.10.12"
  }
 },
 "nbformat": 4,
 "nbformat_minor": 5
}
