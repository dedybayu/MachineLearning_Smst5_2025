{
 "cells": [
  {
   "cell_type": "markdown",
   "id": "708e6eab",
   "metadata": {},
   "source": [
    "# Praktikum 4"
   ]
  }
 ],
 "metadata": {
  "language_info": {
   "name": "python"
  }
 },
 "nbformat": 4,
 "nbformat_minor": 5
}
