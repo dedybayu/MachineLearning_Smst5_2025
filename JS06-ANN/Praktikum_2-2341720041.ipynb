{
 "cells": [
  {
   "cell_type": "markdown",
   "id": "d2badad5",
   "metadata": {},
   "source": [
    "# Praktikum 2"
   ]
  }
 ],
 "metadata": {
  "language_info": {
   "name": "python"
  }
 },
 "nbformat": 4,
 "nbformat_minor": 5
}
