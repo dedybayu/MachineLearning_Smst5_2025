{
 "cells": [
  {
   "cell_type": "markdown",
   "id": "c8055c2b",
   "metadata": {},
   "source": [
    "# Praktikum 5"
   ]
  }
 ],
 "metadata": {
  "language_info": {
   "name": "python"
  }
 },
 "nbformat": 4,
 "nbformat_minor": 5
}
