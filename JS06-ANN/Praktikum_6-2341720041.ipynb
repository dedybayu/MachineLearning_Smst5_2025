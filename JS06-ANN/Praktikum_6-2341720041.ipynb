{
 "cells": [
  {
   "cell_type": "markdown",
   "id": "9ba0ea25",
   "metadata": {},
   "source": [
    "# Praktikum 6"
   ]
  }
 ],
 "metadata": {
  "language_info": {
   "name": "python"
  }
 },
 "nbformat": 4,
 "nbformat_minor": 5
}
